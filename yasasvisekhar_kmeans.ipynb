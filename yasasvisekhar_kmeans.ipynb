{
  "nbformat": 4,
  "nbformat_minor": 0,
  "metadata": {
    "colab": {
      "name": "yasasvisekhar / kmeans.ipynb",
      "provenance": [],
      "authorship_tag": "ABX9TyMM/0zIRbMHrqiUpPfpbYZt",
      "include_colab_link": true
    },
    "kernelspec": {
      "name": "python3",
      "display_name": "Python 3"
    },
    "language_info": {
      "name": "python"
    }
  },
  "cells": [
    {
      "cell_type": "markdown",
      "metadata": {
        "id": "view-in-github",
        "colab_type": "text"
      },
      "source": [
        "<a href=\"https://colab.research.google.com/github/yasasvisekhar/kmeans/blob/main/yasasvisekhar_kmeans.ipynb\" target=\"_parent\"><img src=\"https://colab.research.google.com/assets/colab-badge.svg\" alt=\"Open In Colab\"/></a>"
      ]
    },
    {
      "cell_type": "code",
      "metadata": {
        "id": "SUSQauTBP36h"
      },
      "source": [
        "import pandas as pd\n",
        "\n",
        "from google.colab import files\n",
        "uploaded = files.upload()\n",
        "\n",
        "data = pd.read_csv(\"driver-data.csv\", index_col=\"id\")\n",
        "data.head()\n",
        "\n",
        "from sklearn.cluster import KMeans\n",
        "\n",
        "kmeans =  KMeans (n_clusters=2)\n",
        "kmeans.fit(data)\n",
        "\n",
        "kmeans.cluster_centers_\n",
        "\n",
        "import numpy as np\n",
        "\n",
        "unique, counts = np.unique(kmeans.labels_, return_counts=True)\n",
        "\n",
        "dict_data = dict(zip(unique, counts))\n",
        "dict_data\n",
        "\n",
        "import seaborn as sns\n",
        "\n",
        "data[\"cluster\"] = kmeans.labels_\n",
        "\n",
        "sns.lmplot('mean_dist_day', 'mean_over_speed_perc', data=data, hue='cluster', palette='coolwarm', size=6, aspect=1, fit_reg=False)\n",
        "\n",
        "kmeans.inertia_\n",
        "\n",
        "kmeans.score\n",
        "\n",
        "data"
      ],
      "execution_count": null,
      "outputs": []
    }
  ]
}